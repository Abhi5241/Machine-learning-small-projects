{
  "nbformat": 4,
  "nbformat_minor": 0,
  "metadata": {
    "colab": {
      "name": "placement.ipynb",
      "provenance": []
    },
    "kernelspec": {
      "name": "python3",
      "display_name": "Python 3"
    },
    "language_info": {
      "name": "python"
    }
  },
  "cells": [
    {
      "cell_type": "code",
      "metadata": {
        "id": "i6BC3aGG6lsv"
      },
      "source": [
        "import numpy as np\n",
        "import pandas as pd"
      ],
      "execution_count": null,
      "outputs": []
    },
    {
      "cell_type": "code",
      "metadata": {
        "id": "X1K-1HAn7Mmw"
      },
      "source": [
        "df=pd.read_csv(\"/content/placement.csv\")"
      ],
      "execution_count": null,
      "outputs": []
    },
    {
      "cell_type": "code",
      "metadata": {
        "colab": {
          "base_uri": "https://localhost:8080/",
          "height": 419
        },
        "id": "S8BxPR3H8Rcy",
        "outputId": "e6b06b88-d68d-40d7-e497-2468fd4822f6"
      },
      "source": [
        "df"
      ],
      "execution_count": null,
      "outputs": [
        {
          "output_type": "execute_result",
          "data": {
            "text/html": [
              "<div>\n",
              "<style scoped>\n",
              "    .dataframe tbody tr th:only-of-type {\n",
              "        vertical-align: middle;\n",
              "    }\n",
              "\n",
              "    .dataframe tbody tr th {\n",
              "        vertical-align: top;\n",
              "    }\n",
              "\n",
              "    .dataframe thead th {\n",
              "        text-align: right;\n",
              "    }\n",
              "</style>\n",
              "<table border=\"1\" class=\"dataframe\">\n",
              "  <thead>\n",
              "    <tr style=\"text-align: right;\">\n",
              "      <th></th>\n",
              "      <th>Unnamed: 0</th>\n",
              "      <th>cgpa</th>\n",
              "      <th>iq</th>\n",
              "      <th>placement</th>\n",
              "    </tr>\n",
              "  </thead>\n",
              "  <tbody>\n",
              "    <tr>\n",
              "      <th>0</th>\n",
              "      <td>0</td>\n",
              "      <td>6.8</td>\n",
              "      <td>123.0</td>\n",
              "      <td>1</td>\n",
              "    </tr>\n",
              "    <tr>\n",
              "      <th>1</th>\n",
              "      <td>1</td>\n",
              "      <td>5.9</td>\n",
              "      <td>106.0</td>\n",
              "      <td>0</td>\n",
              "    </tr>\n",
              "    <tr>\n",
              "      <th>2</th>\n",
              "      <td>2</td>\n",
              "      <td>5.3</td>\n",
              "      <td>121.0</td>\n",
              "      <td>0</td>\n",
              "    </tr>\n",
              "    <tr>\n",
              "      <th>3</th>\n",
              "      <td>3</td>\n",
              "      <td>7.4</td>\n",
              "      <td>132.0</td>\n",
              "      <td>1</td>\n",
              "    </tr>\n",
              "    <tr>\n",
              "      <th>4</th>\n",
              "      <td>4</td>\n",
              "      <td>5.8</td>\n",
              "      <td>142.0</td>\n",
              "      <td>0</td>\n",
              "    </tr>\n",
              "    <tr>\n",
              "      <th>...</th>\n",
              "      <td>...</td>\n",
              "      <td>...</td>\n",
              "      <td>...</td>\n",
              "      <td>...</td>\n",
              "    </tr>\n",
              "    <tr>\n",
              "      <th>95</th>\n",
              "      <td>95</td>\n",
              "      <td>4.3</td>\n",
              "      <td>200.0</td>\n",
              "      <td>0</td>\n",
              "    </tr>\n",
              "    <tr>\n",
              "      <th>96</th>\n",
              "      <td>96</td>\n",
              "      <td>4.4</td>\n",
              "      <td>42.0</td>\n",
              "      <td>0</td>\n",
              "    </tr>\n",
              "    <tr>\n",
              "      <th>97</th>\n",
              "      <td>97</td>\n",
              "      <td>6.7</td>\n",
              "      <td>182.0</td>\n",
              "      <td>1</td>\n",
              "    </tr>\n",
              "    <tr>\n",
              "      <th>98</th>\n",
              "      <td>98</td>\n",
              "      <td>6.3</td>\n",
              "      <td>103.0</td>\n",
              "      <td>1</td>\n",
              "    </tr>\n",
              "    <tr>\n",
              "      <th>99</th>\n",
              "      <td>99</td>\n",
              "      <td>6.2</td>\n",
              "      <td>113.0</td>\n",
              "      <td>1</td>\n",
              "    </tr>\n",
              "  </tbody>\n",
              "</table>\n",
              "<p>100 rows × 4 columns</p>\n",
              "</div>"
            ],
            "text/plain": [
              "    Unnamed: 0  cgpa     iq  placement\n",
              "0            0   6.8  123.0          1\n",
              "1            1   5.9  106.0          0\n",
              "2            2   5.3  121.0          0\n",
              "3            3   7.4  132.0          1\n",
              "4            4   5.8  142.0          0\n",
              "..         ...   ...    ...        ...\n",
              "95          95   4.3  200.0          0\n",
              "96          96   4.4   42.0          0\n",
              "97          97   6.7  182.0          1\n",
              "98          98   6.3  103.0          1\n",
              "99          99   6.2  113.0          1\n",
              "\n",
              "[100 rows x 4 columns]"
            ]
          },
          "metadata": {},
          "execution_count": 18
        }
      ]
    },
    {
      "cell_type": "code",
      "metadata": {
        "id": "IYMeUw7O8SZg"
      },
      "source": [
        "df=df.iloc[:,1:]"
      ],
      "execution_count": null,
      "outputs": []
    },
    {
      "cell_type": "code",
      "metadata": {
        "colab": {
          "base_uri": "https://localhost:8080/"
        },
        "id": "B-XQ5z5A8ZpN",
        "outputId": "9b47095e-28bb-4983-825e-af8821600bb1"
      },
      "source": [
        "df.info()"
      ],
      "execution_count": null,
      "outputs": [
        {
          "output_type": "stream",
          "name": "stdout",
          "text": [
            "<class 'pandas.core.frame.DataFrame'>\n",
            "RangeIndex: 100 entries, 0 to 99\n",
            "Data columns (total 3 columns):\n",
            " #   Column     Non-Null Count  Dtype  \n",
            "---  ------     --------------  -----  \n",
            " 0   cgpa       100 non-null    float64\n",
            " 1   iq         100 non-null    float64\n",
            " 2   placement  100 non-null    int64  \n",
            "dtypes: float64(2), int64(1)\n",
            "memory usage: 2.5 KB\n"
          ]
        }
      ]
    },
    {
      "cell_type": "code",
      "metadata": {
        "id": "xpVg26d4-QY_"
      },
      "source": [
        "import matplotlib.pyplot as plt"
      ],
      "execution_count": null,
      "outputs": []
    },
    {
      "cell_type": "code",
      "metadata": {
        "colab": {
          "base_uri": "https://localhost:8080/",
          "height": 282
        },
        "id": "D4RHN4a5-wnN",
        "outputId": "644d0d62-3641-44d7-8102-05aed98588e6"
      },
      "source": [
        "plt.scatter(df[\"cgpa\"],df[\"iq\"],c=df[\"placement\"])"
      ],
      "execution_count": null,
      "outputs": [
        {
          "output_type": "execute_result",
          "data": {
            "text/plain": [
              "<matplotlib.collections.PathCollection at 0x7f2791cfd950>"
            ]
          },
          "metadata": {},
          "execution_count": 22
        },
        {
          "output_type": "display_data",
          "data": {
            "image/png": "[encoded data removed]",
            "text/plain": [
              "<Figure size 432x288 with 1 Axes>"
            ]
          },
          "metadata": {
            "needs_background": "light"
          }
        }
      ]
    },
    {
      "cell_type": "code",
      "metadata": {
        "id": "WgnzgvNn-7yr"
      },
      "source": [
        "x=df.iloc[:,0:2]\n",
        "y=df.iloc[:,-1]"
      ],
      "execution_count": null,
      "outputs": []
    },
    {
      "cell_type": "code",
      "metadata": {
        "colab": {
          "base_uri": "https://localhost:8080/",
          "height": 419
        },
        "id": "GEjB-w-QHhkB",
        "outputId": "f47819d6-9916-4a0c-927f-6376efe7b8fe"
      },
      "source": [
        "x"
      ],
      "execution_count": null,
      "outputs": [
        {
          "output_type": "execute_result",
          "data": {
            "text/html": [
              "<div>\n",
              "<style scoped>\n",
              "    .dataframe tbody tr th:only-of-type {\n",
              "        vertical-align: middle;\n",
              "    }\n",
              "\n",
              "    .dataframe tbody tr th {\n",
              "        vertical-align: top;\n",
              "    }\n",
              "\n",
              "    .dataframe thead th {\n",
              "        text-align: right;\n",
              "    }\n",
              "</style>\n",
              "<table border=\"1\" class=\"dataframe\">\n",
              "  <thead>\n",
              "    <tr style=\"text-align: right;\">\n",
              "      <th></th>\n",
              "      <th>cgpa</th>\n",
              "      <th>iq</th>\n",
              "    </tr>\n",
              "  </thead>\n",
              "  <tbody>\n",
              "    <tr>\n",
              "      <th>0</th>\n",
              "      <td>6.8</td>\n",
              "      <td>123.0</td>\n",
              "    </tr>\n",
              "    <tr>\n",
              "      <th>1</th>\n",
              "      <td>5.9</td>\n",
              "      <td>106.0</td>\n",
              "    </tr>\n",
              "    <tr>\n",
              "      <th>2</th>\n",
              "      <td>5.3</td>\n",
              "      <td>121.0</td>\n",
              "    </tr>\n",
              "    <tr>\n",
              "      <th>3</th>\n",
              "      <td>7.4</td>\n",
              "      <td>132.0</td>\n",
              "    </tr>\n",
              "    <tr>\n",
              "      <th>4</th>\n",
              "      <td>5.8</td>\n",
              "      <td>142.0</td>\n",
              "    </tr>\n",
              "    <tr>\n",
              "      <th>...</th>\n",
              "      <td>...</td>\n",
              "      <td>...</td>\n",
              "    </tr>\n",
              "    <tr>\n",
              "      <th>95</th>\n",
              "      <td>4.3</td>\n",
              "      <td>200.0</td>\n",
              "    </tr>\n",
              "    <tr>\n",
              "      <th>96</th>\n",
              "      <td>4.4</td>\n",
              "      <td>42.0</td>\n",
              "    </tr>\n",
              "    <tr>\n",
              "      <th>97</th>\n",
              "      <td>6.7</td>\n",
              "      <td>182.0</td>\n",
              "    </tr>\n",
              "    <tr>\n",
              "      <th>98</th>\n",
              "      <td>6.3</td>\n",
              "      <td>103.0</td>\n",
              "    </tr>\n",
              "    <tr>\n",
              "      <th>99</th>\n",
              "      <td>6.2</td>\n",
              "      <td>113.0</td>\n",
              "    </tr>\n",
              "  </tbody>\n",
              "</table>\n",
              "<p>100 rows × 2 columns</p>\n",
              "</div>"
            ],
            "text/plain": [
              "    cgpa     iq\n",
              "0    6.8  123.0\n",
              "1    5.9  106.0\n",
              "2    5.3  121.0\n",
              "3    7.4  132.0\n",
              "4    5.8  142.0\n",
              "..   ...    ...\n",
              "95   4.3  200.0\n",
              "96   4.4   42.0\n",
              "97   6.7  182.0\n",
              "98   6.3  103.0\n",
              "99   6.2  113.0\n",
              "\n",
              "[100 rows x 2 columns]"
            ]
          },
          "metadata": {},
          "execution_count": 24
        }
      ]
    },
    {
      "cell_type": "code",
      "metadata": {
        "colab": {
          "base_uri": "https://localhost:8080/"
        },
        "id": "I1aHd29iHjNm",
        "outputId": "8dde3acd-9865-4c93-9d00-95f20e74d319"
      },
      "source": [
        "y"
      ],
      "execution_count": null,
      "outputs": [
        {
          "output_type": "execute_result",
          "data": {
            "text/plain": [
              "0     1\n",
              "1     0\n",
              "2     0\n",
              "3     1\n",
              "4     0\n",
              "     ..\n",
              "95    0\n",
              "96    0\n",
              "97    1\n",
              "98    1\n",
              "99    1\n",
              "Name: placement, Length: 100, dtype: int64"
            ]
          },
          "metadata": {},
          "execution_count": 25
        }
      ]
    },
    {
      "cell_type": "code",
      "metadata": {
        "id": "bvs03G1cHlBT"
      },
      "source": [
        "\n",
        "from sklearn.model_selection import train_test_split\n",
        "x_train,x_test,y_train,y_test=train_test_split(x,y,test_size=0.3)"
      ],
      "execution_count": 66,
      "outputs": []
    },
    {
      "cell_type": "code",
      "metadata": {
        "id": "UKY0KqtWbwDD"
      },
      "source": [
        "from sklearn.preprocessing import StandardScaler"
      ],
      "execution_count": 67,
      "outputs": []
    },
    {
      "cell_type": "code",
      "metadata": {
        "colab": {
          "base_uri": "https://localhost:8080/"
        },
        "id": "s0bcK73Deh29",
        "outputId": "ed47ed2d-4514-4fe6-810d-55e9d3ec1c71"
      },
      "source": [
        "scaler=StandardScaler()\n",
        "scaler"
      ],
      "execution_count": 68,
      "outputs": [
        {
          "output_type": "execute_result",
          "data": {
            "text/plain": [
              "StandardScaler(copy=True, with_mean=True, with_std=True)"
            ]
          },
          "metadata": {},
          "execution_count": 68
        }
      ]
    },
    {
      "cell_type": "code",
      "metadata": {
        "id": "5_PC-FpZf3mc"
      },
      "source": [
        "x_train=scaler.fit_transform(x_train)"
      ],
      "execution_count": 69,
      "outputs": []
    },
    {
      "cell_type": "code",
      "metadata": {
        "colab": {
          "base_uri": "https://localhost:8080/"
        },
        "id": "2CmLHRSEf5JH",
        "outputId": "464f5c73-ef0d-4502-df08-104902fb59c0"
      },
      "source": [
        "x_train"
      ],
      "execution_count": 70,
      "outputs": [
        {
          "output_type": "execute_result",
          "data": {
            "text/plain": [
              "array([[-1.18861719e+00,  6.58151641e-01],\n",
              "       [ 4.58970995e-01, -1.40299223e-01],\n",
              "       [-9.02250673e-02,  1.19045222e+00],\n",
              "       [-1.09708451e+00, -9.12135059e-01],\n",
              "       [ 1.30760967e-03, -4.06449511e-01],\n",
              "       [-1.37168255e+00,  7.37996727e-01],\n",
              "       [ 1.92349383e+00, -1.12505529e+00],\n",
              "       [ 9.28402867e-02, -1.47105066e+00],\n",
              "       [ 9.16634380e-01, -6.72599799e-01],\n",
              "       [-1.81757744e-01,  5.78306554e-01],\n",
              "       [ 9.16634380e-01,  4.71846439e-01],\n",
              "       [-5.47888452e-01, -1.93529281e-01],\n",
              "       [ 1.37429776e+00,  2.85541238e-01],\n",
              "       [ 1.84372964e-01, -1.07182523e+00],\n",
              "       [-7.30953806e-01, -1.47105066e+00],\n",
              "       [ 1.84372964e-01, -4.86294598e-01],\n",
              "       [-1.46321522e+00,  2.09536320e+00],\n",
              "       [-6.39421129e-01, -2.99989396e-01],\n",
              "       [ 1.28276509e+00, -1.40299223e-01],\n",
              "       [-1.09708451e+00, -7.22407925e-03],\n",
              "       [ 1.46583044e+00, -1.60412581e+00],\n",
              "       [ 3.67438318e-01,  1.52466094e-01],\n",
              "       [-2.19547664e+00,  2.97365915e+00],\n",
              "       [ 1.28276509e+00, -9.38750087e-01],\n",
              "       [-6.39421129e-01, -8.32289972e-01],\n",
              "       [-6.39421129e-01,  2.85541238e-01],\n",
              "       [-4.56355775e-01,  4.71846439e-01],\n",
              "       [-8.22486483e-01, -8.70691657e-02],\n",
              "       [ 2.75905641e-01, -2.20144310e-01],\n",
              "       [ 1.28276509e+00, -1.89689112e+00],\n",
              "       [ 3.67438318e-01, -4.86294598e-01],\n",
              "       [-1.00555184e+00, -2.46759338e-01],\n",
              "       [-1.00555184e+00,  5.25076497e-01],\n",
              "       [ 1.84372964e-01,  2.85541238e-01],\n",
              "       [ 5.50503672e-01, -8.32289972e-01],\n",
              "       [ 1.84372964e-01,  9.24301929e-01],\n",
              "       [ 1.00816706e+00,  4.71846439e-01],\n",
              "       [ 1.00816706e+00,  1.42998748e+00],\n",
              "       [ 1.46583044e+00,  9.77531987e-01],\n",
              "       [-1.81757744e-01,  2.85541238e-01],\n",
              "       [ 9.28402867e-02, -5.12909627e-01],\n",
              "       [ 8.25101703e-01,  5.25076497e-01],\n",
              "       [ 2.19809186e+00,  1.24368227e+00],\n",
              "       [-9.14019161e-01, -3.38391081e-02],\n",
              "       [ 4.58970995e-01,  5.25076497e-01],\n",
              "       [-2.37854199e+00,  1.64290771e+00],\n",
              "       [ 9.28402867e-02, -2.02996627e+00],\n",
              "       [-9.02250673e-02,  5.51691526e-01],\n",
              "       [ 1.55736312e+00,  1.79081122e-01],\n",
              "       [-4.56355775e-01,  3.65386324e-01],\n",
              "       [ 9.16634380e-01,  4.45231410e-01],\n",
              "       [ 7.33569026e-01,  1.61629268e+00],\n",
              "       [-4.56355775e-01, -1.93529281e-01],\n",
              "       [-9.14019161e-01,  8.97686900e-01],\n",
              "       [ 5.50503672e-01,  2.32311180e-01],\n",
              "       [-8.22486483e-01, -8.05674943e-01],\n",
              "       [-9.14019161e-01,  3.38771295e-01],\n",
              "       [ 1.46583044e+00,  2.32311180e-01],\n",
              "       [ 1.00816706e+00, -2.46759338e-01],\n",
              "       [-7.30953806e-01,  1.79081122e-01],\n",
              "       [ 5.50503672e-01, -2.24288650e+00],\n",
              "       [-5.47888452e-01, -7.22407925e-03],\n",
              "       [ 7.33569026e-01,  8.71071871e-01],\n",
              "       [-1.09708451e+00, -1.84366107e+00],\n",
              "       [ 9.28402867e-02,  7.26210072e-02],\n",
              "       [-9.14019161e-01,  1.98890308e+00],\n",
              "       [-1.73781325e+00, -5.66139684e-01],\n",
              "       [ 8.25101703e-01,  4.60059784e-02],\n",
              "       [-1.73781325e+00, -1.23151540e+00],\n",
              "       [ 1.84372964e-01, -1.49766569e+00]])"
            ]
          },
          "metadata": {},
          "execution_count": 70
        }
      ]
    },
    {
      "cell_type": "code",
      "metadata": {
        "id": "ejb8hHgUgVtc"
      },
      "source": [
        "x_test=scaler.transform(x_test)"
      ],
      "execution_count": 71,
      "outputs": []
    },
    {
      "cell_type": "code",
      "metadata": {
        "colab": {
          "base_uri": "https://localhost:8080/"
        },
        "id": "754QAQdwinSo",
        "outputId": "6b6a5408-303e-4c23-d33b-53b14961f68f"
      },
      "source": [
        "x_test"
      ],
      "execution_count": 72,
      "outputs": [
        {
          "output_type": "execute_result",
          "data": {
            "text/plain": [
              "array([[ 1.74042847, -0.19352928],\n",
              "       [ 0.55050367,  1.03076204],\n",
              "       [-1.82934593, -0.32660442],\n",
              "       [ 0.64203635, -0.03383911],\n",
              "       [-0.45635578, -0.37983448],\n",
              "       [-0.63942113,  1.05737707],\n",
              "       [ 1.00816706, -1.52428072],\n",
              "       [ 2.38115721, -0.03383911],\n",
              "       [ 1.09969973,  0.79122678],\n",
              "       [-0.18175774,  0.49846147],\n",
              "       [ 0.8251017 , -0.83228997],\n",
              "       [-1.00555184,  1.2702973 ],\n",
              "       [ 0.36743832,  0.17908112],\n",
              "       [ 0.64203635,  0.44523141],\n",
              "       [-0.91401916, -1.60412581],\n",
              "       [-1.37168255, -2.10981135],\n",
              "       [-1.00555184,  1.11060713],\n",
              "       [-0.91401916,  0.79122678],\n",
              "       [ 1.28276509,  0.41861638],\n",
              "       [-0.63942113,  2.73412389],\n",
              "       [ 0.8251017 , -0.24675934],\n",
              "       [ 1.55736312, -0.858905  ],\n",
              "       [-0.18175774,  1.2702973 ],\n",
              "       [ 2.0150265 ,  0.73799673],\n",
              "       [ 2.0150265 ,  1.19045222],\n",
              "       [ 0.09284029,  0.73799673],\n",
              "       [-0.73095381,  1.45660251],\n",
              "       [ 1.00816706,  2.06874817],\n",
              "       [ 1.09969973, -1.95012118],\n",
              "       [-0.82248648, -1.55089575]])"
            ]
          },
          "metadata": {},
          "execution_count": 72
        }
      ]
    },
    {
      "cell_type": "code",
      "metadata": {
        "colab": {
          "base_uri": "https://localhost:8080/"
        },
        "id": "7ilBfnzsipmA",
        "outputId": "751af930-266e-43ca-d6cb-8a364a16f0ea"
      },
      "source": [
        "x_test"
      ],
      "execution_count": 73,
      "outputs": [
        {
          "output_type": "execute_result",
          "data": {
            "text/plain": [
              "array([[ 1.74042847, -0.19352928],\n",
              "       [ 0.55050367,  1.03076204],\n",
              "       [-1.82934593, -0.32660442],\n",
              "       [ 0.64203635, -0.03383911],\n",
              "       [-0.45635578, -0.37983448],\n",
              "       [-0.63942113,  1.05737707],\n",
              "       [ 1.00816706, -1.52428072],\n",
              "       [ 2.38115721, -0.03383911],\n",
              "       [ 1.09969973,  0.79122678],\n",
              "       [-0.18175774,  0.49846147],\n",
              "       [ 0.8251017 , -0.83228997],\n",
              "       [-1.00555184,  1.2702973 ],\n",
              "       [ 0.36743832,  0.17908112],\n",
              "       [ 0.64203635,  0.44523141],\n",
              "       [-0.91401916, -1.60412581],\n",
              "       [-1.37168255, -2.10981135],\n",
              "       [-1.00555184,  1.11060713],\n",
              "       [-0.91401916,  0.79122678],\n",
              "       [ 1.28276509,  0.41861638],\n",
              "       [-0.63942113,  2.73412389],\n",
              "       [ 0.8251017 , -0.24675934],\n",
              "       [ 1.55736312, -0.858905  ],\n",
              "       [-0.18175774,  1.2702973 ],\n",
              "       [ 2.0150265 ,  0.73799673],\n",
              "       [ 2.0150265 ,  1.19045222],\n",
              "       [ 0.09284029,  0.73799673],\n",
              "       [-0.73095381,  1.45660251],\n",
              "       [ 1.00816706,  2.06874817],\n",
              "       [ 1.09969973, -1.95012118],\n",
              "       [-0.82248648, -1.55089575]])"
            ]
          },
          "metadata": {},
          "execution_count": 73
        }
      ]
    },
    {
      "cell_type": "code",
      "metadata": {
        "id": "WsEBxxQKi-Ke"
      },
      "source": [
        "from sklearn.linear_model import LogisticRegression"
      ],
      "execution_count": 74,
      "outputs": []
    },
    {
      "cell_type": "code",
      "metadata": {
        "colab": {
          "base_uri": "https://localhost:8080/"
        },
        "id": "Q5B5YUTCjaNR",
        "outputId": "d26e365b-587a-4300-da24-c9f155f20fc3"
      },
      "source": [
        "clf=LogisticRegression()\n",
        "clf"
      ],
      "execution_count": 75,
      "outputs": [
        {
          "output_type": "execute_result",
          "data": {
            "text/plain": [
              "LogisticRegression(C=1.0, class_weight=None, dual=False, fit_intercept=True,\n",
              "                   intercept_scaling=1, l1_ratio=None, max_iter=100,\n",
              "                   multi_class='auto', n_jobs=None, penalty='l2',\n",
              "                   random_state=None, solver='lbfgs', tol=0.0001, verbose=0,\n",
              "                   warm_start=False)"
            ]
          },
          "metadata": {},
          "execution_count": 75
        }
      ]
    },
    {
      "cell_type": "code",
      "metadata": {
        "colab": {
          "base_uri": "https://localhost:8080/"
        },
        "id": "EjSkufdTjpe6",
        "outputId": "c4f32b32-e7d3-4f4e-d1bf-2e4c4cc38fda"
      },
      "source": [
        "clf.fit(x_train,y_train)"
      ],
      "execution_count": 76,
      "outputs": [
        {
          "output_type": "execute_result",
          "data": {
            "text/plain": [
              "LogisticRegression(C=1.0, class_weight=None, dual=False, fit_intercept=True,\n",
              "                   intercept_scaling=1, l1_ratio=None, max_iter=100,\n",
              "                   multi_class='auto', n_jobs=None, penalty='l2',\n",
              "                   random_state=None, solver='lbfgs', tol=0.0001, verbose=0,\n",
              "                   warm_start=False)"
            ]
          },
          "metadata": {},
          "execution_count": 76
        }
      ]
    },
    {
      "cell_type": "code",
      "metadata": {
        "id": "LcPBvayTj1Vp",
        "colab": {
          "base_uri": "https://localhost:8080/"
        },
        "outputId": "4eff2d81-b84c-4b9f-c58f-3043f9cd274c"
      },
      "source": [
        "y_predict=clf.predict(x_test)\n",
        "y_predict"
      ],
      "execution_count": 77,
      "outputs": [
        {
          "output_type": "execute_result",
          "data": {
            "text/plain": [
              "array([1, 1, 0, 1, 0, 0, 1, 1, 1, 0, 1, 0, 1, 1, 0, 0, 0, 0, 1, 0, 1, 1,\n",
              "       0, 1, 1, 1, 0, 1, 1, 0])"
            ]
          },
          "metadata": {},
          "execution_count": 77
        }
      ]
    },
    {
      "cell_type": "code",
      "metadata": {
        "colab": {
          "base_uri": "https://localhost:8080/"
        },
        "id": "G7sXzT6tkor0",
        "outputId": "35239262-47ed-40fc-8b0f-d36ba7ea981f"
      },
      "source": [
        "y_test"
      ],
      "execution_count": 78,
      "outputs": [
        {
          "output_type": "execute_result",
          "data": {
            "text/plain": [
              "55    1\n",
              "38    1\n",
              "31    0\n",
              "20    1\n",
              "81    0\n",
              "47    0\n",
              "64    1\n",
              "69    1\n",
              "21    1\n",
              "36    0\n",
              "35    1\n",
              "75    0\n",
              "63    1\n",
              "48    1\n",
              "73    0\n",
              "96    0\n",
              "34    0\n",
              "89    0\n",
              "61    1\n",
              "16    0\n",
              "93    1\n",
              "42    1\n",
              "84    0\n",
              "37    1\n",
              "65    1\n",
              "33    0\n",
              "15    0\n",
              "26    1\n",
              "5     1\n",
              "7     0\n",
              "Name: placement, dtype: int64"
            ]
          },
          "metadata": {},
          "execution_count": 78
        }
      ]
    },
    {
      "cell_type": "code",
      "metadata": {
        "id": "Y4QFNJ3hlB9D"
      },
      "source": [
        "from sklearn.metrics import accuracy_score"
      ],
      "execution_count": 79,
      "outputs": []
    },
    {
      "cell_type": "code",
      "metadata": {
        "colab": {
          "base_uri": "https://localhost:8080/"
        },
        "id": "UuCivrm0Izn1",
        "outputId": "fc6964a3-7016-4c42-98fe-18cdd119c505"
      },
      "source": [
        "accuracy_score(y_test,y_predict)"
      ],
      "execution_count": 80,
      "outputs": [
        {
          "output_type": "execute_result",
          "data": {
            "text/plain": [
              "0.9666666666666667"
            ]
          },
          "metadata": {},
          "execution_count": 80
        }
      ]
    },
    {
      "cell_type": "code",
      "metadata": {
        "id": "j7g3_Gr4I9mr"
      },
      "source": [
        "from mlxtend.plotting import plot_decision_regions"
      ],
      "execution_count": 82,
      "outputs": []
    },
    {
      "cell_type": "code",
      "metadata": {
        "colab": {
          "base_uri": "https://localhost:8080/",
          "height": 336
        },
        "id": "9y97MafKKBtJ",
        "outputId": "d5ed4be1-1439-4483-c2ee-65ea16bc85fb"
      },
      "source": [
        "plot_decision_regions(x_train,y_train.values,clf=clf,legend=2)"
      ],
      "execution_count": 84,
      "outputs": [
        {
          "output_type": "stream",
          "name": "stderr",
          "text": [
            "/usr/local/lib/python3.7/dist-packages/mlxtend/plotting/decision_regions.py:244: MatplotlibDeprecationWarning: Passing unsupported keyword arguments to axis() will raise a TypeError in 3.3.\n",
            "  ax.axis(xmin=xx.min(), xmax=xx.max(), y_min=yy.min(), y_max=yy.max())\n"
          ]
        },
        {
          "output_type": "execute_result",
          "data": {
            "text/plain": [
              "<matplotlib.axes._subplots.AxesSubplot at 0x7f2781097ed0>"
            ]
          },
          "metadata": {},
          "execution_count": 84
        },
        {
          "output_type": "display_data",
          "data": {
            "image/png": "[encoded data removed]",
            "text/plain": [
              "<Figure size 432x288 with 1 Axes>"
            ]
          },
          "metadata": {
            "needs_background": "light"
          }
        }
      ]
    },
    {
      "cell_type": "code",
      "metadata": {
        "id": "Q2aV78q5K9Oq"
      },
      "source": [
        ""
      ],
      "execution_count": 85,
      "outputs": []
    },
    {
      "cell_type": "code",
      "metadata": {
        "id": "d4fOMdaPLbE8"
      },
      "source": [
        ""
      ],
      "execution_count": null,
      "outputs": []
    }
  ]
}