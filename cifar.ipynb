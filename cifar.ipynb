{
 "cells": [
  {
   "cell_type": "code",
   "execution_count": 1,
   "metadata": {},
   "outputs": [],
   "source": [
    "from __future__ import print_function\n",
    "import keras\n",
    "from keras.layers import Dense, Conv2D,BatchNormalization, Activation\n",
    "from keras.layers import AveragePooling2D, Input, Flatten\n",
    "from keras.callbacks import ModelCheckpoint, LearningRateScheduler\n",
    "from keras.callbacks import ReduceLROnPlateau\n",
    "from keras.optimizers import Adam\n",
    "from tensorflow.keras.preprocessing.image import ImageDataGenerator\n",
    "\n",
    "from keras.regularizers import l2\n",
    "from keras import backend as K\n",
    "from keras.models import Model\n",
    "from keras.datasets import cifar10\n",
    "\n",
    "import numpy as np\n",
    "import os"
   ]
  },
  {
   "cell_type": "code",
   "execution_count": 2,
   "metadata": {},
   "outputs": [],
   "source": [
    "batch_size=32\n",
    "epochs=20\n",
    "data_augmentation=True\n",
    "num_classes=10\n",
    "\n",
    "subtract_pixel_mean=True"
   ]
  },
  {
   "cell_type": "code",
   "execution_count": 3,
   "metadata": {},
   "outputs": [],
   "source": [
    "n=6\n",
    "version=2\n",
    "\n",
    "if version ==1:\n",
    "    depth =n*6+2\n",
    "elif version==2:\n",
    "    depth=n*9+2\n",
    "\n",
    "model_type=f\"ResNet{depth}v{version}\"\n"
   ]
  },
  {
   "cell_type": "code",
   "execution_count": 4,
   "metadata": {},
   "outputs": [
    {
     "data": {
      "text/plain": [
       "'ResNet56v2'"
      ]
     },
     "execution_count": 4,
     "metadata": {},
     "output_type": "execute_result"
    }
   ],
   "source": [
    "model_type"
   ]
  },
  {
   "cell_type": "code",
   "execution_count": 5,
   "metadata": {},
   "outputs": [
    {
     "name": "stdout",
     "output_type": "stream",
     "text": [
      "Downloading data from https://www.cs.toronto.edu/~kriz/cifar-10-python.tar.gz\n",
      "\u001b[1m170498071/170498071\u001b[0m \u001b[32m━━━━━━━━━━━━━━━━━━━━\u001b[0m\u001b[37m\u001b[0m \u001b[1m744s\u001b[0m 4us/step\n",
      "(50000, 32, 32, 3)\n"
     ]
    }
   ],
   "source": [
    "(x_train,y_train), (x_test,y_test)=cifar10.load_data()\n",
    "input_shape=x_train.shape\n",
    "print(input_shape)"
   ]
  },
  {
   "cell_type": "code",
   "execution_count": 6,
   "metadata": {},
   "outputs": [
    {
     "name": "stdout",
     "output_type": "stream",
     "text": [
      "x_train shape: (50000, 32, 32, 3)\n",
      "50000 train samples\n",
      "10000 test samples\n",
      "y_train shape: (50000, 1)\n"
     ]
    }
   ],
   "source": [
    "input_shape=x_train.shape[1:]\n",
    "x_train=x_train.astype('float32')/255\n",
    "x_test=x_test.astype('float32')/255\n",
    "\n",
    "if subtract_pixel_mean:\n",
    "    x_train_mean=np.mean(x_train, axis=0)\n",
    "    x_train-=x_train_mean\n",
    "    x_test-=x_train_mean\n",
    "\n",
    "print(\"x_train shape:\", x_train.shape)\n",
    "print(x_train.shape[0],\"train samples\")\n",
    "print(x_test.shape[0],\"test samples\")\n",
    "print(\"y_train shape:\",y_train.shape)"
   ]
  },
  {
   "cell_type": "code",
   "execution_count": 7,
   "metadata": {},
   "outputs": [],
   "source": [
    "#One hot encoding\n",
    "y_train=keras.utils.to_categorical(y_train,num_classes)\n",
    "y_test=keras.utils.to_categorical(y_test,num_classes)"
   ]
  },
  {
   "cell_type": "code",
   "execution_count": 8,
   "metadata": {},
   "outputs": [],
   "source": [
    "def lr_schedule(epoch):\n",
    "    lr=1e-3\n",
    "    if epoch >= 80:\n",
    "        lr *= 0.5e-3\n",
    "    elif epoch >= 60:\n",
    "        lr *= 1e-3\n",
    "    elif epoch >= 40:\n",
    "        lr *= 1e-2\n",
    "    elif epoch >= 20:\n",
    "        lr *= 1e-1\n",
    "    print('Learning rate: ', lr)\n",
    "    return lr"
   ]
  },
  {
   "cell_type": "code",
   "execution_count": 9,
   "metadata": {},
   "outputs": [],
   "source": [
    "def resnet_layer(\n",
    "        inputs,\n",
    "        num_filters=16,\n",
    "        kernel_size=3,\n",
    "        strides=1,\n",
    "        activation='relu',\n",
    "        batch_normalization=True,\n",
    "        conv_first=True):\n",
    "    conv=Conv2D(num_filters,kernel_size=kernel_size,strides=strides,padding=\"same\",\n",
    "                kernel_initializer='he_normal', kernel_regularizer=l2(1e-4))\n",
    "    x=inputs\n",
    "    if conv_first:\n",
    "        x=conv(x)\n",
    "        if batch_normalization:\n",
    "            x=BatchNormalization()(x)\n",
    "        if activation is not None:\n",
    "            x=Activation(activation)(x)\n",
    "    else:\n",
    "        if batch_normalization:\n",
    "            x=BatchNormalization()(x)\n",
    "        if activation is not None:\n",
    "            x=Activation(activation)(x)\n",
    "        x=conv(x)\n",
    "    return x\n"
   ]
  },
  {
   "cell_type": "code",
   "execution_count": 10,
   "metadata": {},
   "outputs": [],
   "source": [
    "def resnet_v1(input_shape,depth,num_classes=10):\n",
    "    if (depth - 2) % 6!= 0:\n",
    "        raise ValueError(\"depth should be 6n+2 (where n is a non-negative integer).\")\n",
    "    num_filters = 16\n",
    "    num_blocks = int((depth - 2) / 6)\n",
    "    inputs=Input(shape=input_shape)\n",
    "    x=resnet_layer(inputs=inputs)\n",
    "\n",
    "    for stack in range(3):\n",
    "        for res_block in range(num_res_blocks):\n",
    "            strides=1\n",
    "            if stack > 0 and res_block == 0:\n",
    "                strides=2\n",
    "            y=resnet_layer(inputs=x, num_filters=num_filters, strides=strides)\n",
    "            y=resnet_layer(inputs=y, num_filters=num_filters, activation=None)\n",
    "            if stack>0 and res_block == 0:\n",
    "                x=resnet_layer(inputs=x, num_filters=num_filters,kernel_size=1\n",
    "                               ,strides=strides,activation=None,\n",
    "                               batch_normalization=False)\n",
    "            \n",
    "            x=keras.layers.add([x,y])\n",
    "            x=Activation('relu')(x)\n",
    "        num_filters*=2\n",
    "    x=AveragePooling2D(pool_size=8)(x)\n",
    "    y=Flatten()(x)\n",
    "    outputs=Dense(num_classes,\n",
    "                  Activation='softmax',\n",
    "                  kernel_initializer='he_normal')(y)\n",
    "    model=Model(inputs=inputs, outputs=outputs)\n",
    "    return model"
   ]
  },
  {
   "cell_type": "code",
   "execution_count": null,
   "metadata": {},
   "outputs": [],
   "source": []
  }
 ],
 "metadata": {
  "kernelspec": {
   "display_name": "base",
   "language": "python",
   "name": "python3"
  },
  "language_info": {
   "codemirror_mode": {
    "name": "ipython",
    "version": 3
   },
   "file_extension": ".py",
   "mimetype": "text/x-python",
   "name": "python",
   "nbconvert_exporter": "python",
   "pygments_lexer": "ipython3",
   "version": "3.12.4"
  }
 },
 "nbformat": 4,
 "nbformat_minor": 2
}
