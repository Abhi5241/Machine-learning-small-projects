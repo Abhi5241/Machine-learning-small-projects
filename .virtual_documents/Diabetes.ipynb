import numpy as np
import pandas as pd
import matplotlib.pyplot as plt
import seaborn as sns
from sklearn.compose import ColumnTransformer
from sklearn.pipeline import Pipeline

from sklearn.experimental import enable_iterative_imputer
from sklearn.impute import IterativeImputer

from sklearn.preprocessing import PowerTransformer

from sklearn.model_selection import train_test_split
from sklearn.linear_model import LogisticRegression
from sklearn.svm import SVC

from sklearn.metrics import accuracy_score
from sklearn.model_selection import cross_val_score


diabetes=pd.read_csv("/Users/chauhanabhishek/Downloads/diabetes.csv")


diabetes.head()


diabetes.info()


diabetes.corr()["Outcome"]


sns.pairplot(diabetes,hue="Outcome")


diabetes.isnull().sum()


diabetes.describe()


from pandas_profiling import ProfileReport
prof=ProfileReport(diabetes)
prof.to_file(output_file="output.html")


diabetes.head()


diabetes.info()


x=diabetes.iloc[:,:8]
y=diabetes.iloc[:,-1]


print(x.shape)
print(y.shape)


ii=IterativeImputer(missing_values=0)


transfromed=ii.fit_transform(x)


df=pd.DataFrame(transfromed,columns=["Pregnancies","Glucose","BloodPressure","SkinThickness","Insulin","BMI","DiabetesPedigreeFunction","Age"])


df = pd.concat([df,y], axis=1)


df


sns.pairplot(df,hue="Outcome")


x=df.iloc[:,:8]
y=df.iloc[:,8]


#y


#x_train,x_test,y_train,y_test=train_test_split(x,y,test_size=0.2)


"""step1=ColumnTransformer(transformers=[
                                ("col_tnf2",PowerTransformer(),[0,1,2,3,4,5,6,7])
],remainder="passthrough")

step2=LogisticRegression()

pipe=Pipeline([
               ("step1",step1),
               ("step2",step2)
])

pipe.fit(x_train,y_train)

y_pred=pipe.predict(x_test)

print("Accuracy Score=",accuracy_score(y_test,y_pred))
print("Cross Validation=",np.mean(cross_val_score(step2,x_train,y_train,scoring='accuracy',cv=5)))"""


"""step1=ColumnTransformer(transformers=[
                                ("col_tnf2",PowerTransformer(),[0,2,3,4,5,6,7])
],remainder="passthrough")

step2=SVC(kernel="linear")

pipe=Pipeline([
               ("step1",step1),
               ("step2",step2)
])

pipe.fit(x_train,y_train)

y_pred=pipe.predict(x_test)

print("Accuracy Score=",accuracy_score(y_test,y_pred))
print("Cross Validation=",np.mean(cross_val_score(step2,x_train,y_train,scoring='accuracy',cv=5)))"""





##Removing Outliers


df


df.info()



df.corr()["Outcome"]


sns.boxplot(np.sqrt(df["Pregnancies"]))


df["Pregnancies"]=np.sqrt(df["Pregnancies"])


sns.distplot(df["Pregnancies"])


df=df[df["Pregnancies"]<df["Pregnancies"].quantile(.999)]




sns.boxplot(df["Glucose"])


sns.boxplot(df["BloodPressure"])


df=df[(df["BloodPressure"]>df["BloodPressure"].quantile(0.01)) & (df["BloodPressure"]<df["BloodPressure"].quantile(0.99))]


sns.boxplot(df["BloodPressure"])


sns.boxplot(df["SkinThickness"])


df=df[df["SkinThickness"]<df["SkinThickness"].quantile(0.99)]


sns.boxplot(df["SkinThickness"])


sns.pairplot(df1,hue="Outcome")


sns.boxplot(np.log(df["Insulin"]))


df["Insulin"]=np.log(df["Insulin"])


df=df[(df["Insulin"]>df["Insulin"].quantile(0.05)) & (df["Insulin"]<df["Insulin"].quantile(0.99))]


sns.boxplot(df["Insulin"])


df


sns.boxplot(np.log(df["BMI"]))


df["BMI"]=np.log(df["BMI"])


df=df[(df["BMI"]>df["BMI"].quantile(0.001)) & (df["BMI"]<df["BMI"].quantile(0.998))]


sns.boxplot(df["BMI"])


sns.boxplot(df["DiabetesPedigreeFunction"])


sns.boxplot(np.log(df["DiabetesPedigreeFunction"]))


df["DiabetesPedigreeFunction"]=np.log(df["DiabetesPedigreeFunction"])


df


sns.boxplot(df["Age"])


sns.boxplot(np.log(df["Age"]))


df["Age"]=np.log(df["Age"])


x=df.iloc[:,:8]
y=df.iloc[:,8]


from sklearn.preprocessing import StandardScaler


ss=StandardScaler()


x_scaled=ss.fit_transform(x)


lr=LogisticRegression()


x_train,x_test,y_train,y_test=train_test_split(x_scaled,y,test_size=0.2)


lr.fit(x_train,y_train)
y_pred=lr.predict(x_test)
print("Accuracy Score=",accuracy_score(y_test,y_pred))
print("Cross Validation=",np.mean(cross_val_score(lr,x_train,y_train,scoring='accuracy',cv=5)))


svm=SVC(kernel="linear")


svm.fit(x_train,y_train)
y_pred=svm.predict(x_test)
print("Accuracy Score=",accuracy_score(y_test,y_pred))
print("Cross Validation=",np.mean(cross_val_score(svm,x_train,y_train,scoring='accuracy',cv=5)))



